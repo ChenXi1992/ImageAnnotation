{
 "cells": [
  {
   "cell_type": "code",
   "execution_count": 41,
   "metadata": {
    "collapsed": true
   },
   "outputs": [],
   "source": [
    "import os\n",
    "from PIL import Image\n",
    "import cv2\n",
    "import numpy as np\n",
    "\n",
    "cropSize = 500 # When crop the big pic to the small pics \n",
    "read_file_dir = \"Solor_panel_pic\"\n",
    "save_file_dir = \"Rendered_img\"\n",
    "os.makedirs(\"Rendered_img\",exist_ok=True)"
   ]
  },
  {
   "cell_type": "code",
   "execution_count": 42,
   "metadata": {
    "collapsed": true
   },
   "outputs": [],
   "source": [
    "def cut_pic_based_on_size(pic,size,pic_name):\n",
    "    iteration = int(len(pic)/size)\n",
    "    for i in range(iteration):\n",
    "        for j in range(iteration):\n",
    "            cropImg =  img[i*size:(i+1)*size,j*size:(j+1)*size]\n",
    "            cv2.imwrite(save_file_dir+'/'+ pic_name+\"_\"+str(i)+\"_\"+str(j)+\"_\"+str(size)+\"x\"+str(size)+\".png\", cropImg)\n",
    "    return True"
   ]
  },
  {
   "cell_type": "code",
   "execution_count": 43,
   "metadata": {},
   "outputs": [
    {
     "name": "stdout",
     "output_type": "stream",
     "text": [
      "4.png\n",
      "CD_dop20rgbi_32404_5749_1_nw_ergebnis.png\n"
     ]
    }
   ],
   "source": [
    "for pic in os.listdir(read_file_dir):\n",
    "    if pic[-4:] == \".png\" or pic[-4:] == \".jpg\":\n",
    "        print(pic)\n",
    "        img = cv2.imread(read_file_dir+\"/\"+pic)\n",
    "        hsv = cv2.cvtColor(img, cv2.COLOR_BGR2HSV)\n",
    "        mask = cv2.inRange(hsv, (20, 0, 0), (100, 255, 255))\n",
    "        mask = cv2.medianBlur(mask, 25, 25)\n",
    "        ret, mask = cv2.threshold(mask, 127, 255, cv2.THRESH_BINARY)\n",
    "        mask = cv2.morphologyEx(mask, cv2.MORPH_CLOSE, cv2.getStructuringElement(cv2.MORPH_RECT, (2, 2)))\n",
    "        mask = cv2.morphologyEx(mask, cv2.MORPH_OPEN, cv2.getStructuringElement(cv2.MORPH_RECT, (2, 2)))\n",
    "        mask = cv2.bitwise_not(mask)\n",
    "        img = cv2.bitwise_and(img, img, mask=mask)\n",
    "        \n",
    "#              cv2.imwrite(pic+\".png\", img)\n",
    "\n",
    "        cut_pic_based_on_size(img,cropSize,pic[:-4])"
   ]
  },
  {
   "cell_type": "code",
   "execution_count": 80,
   "metadata": {},
   "outputs": [
    {
     "name": "stdout",
     "output_type": "stream",
     "text": [
      "3.png\n",
      "4.png\n"
     ]
    }
   ],
   "source": [
    "for data_file in sorted(os.listdir(read_file_dir)):\n",
    "    print(data_file)"
   ]
  },
  {
   "cell_type": "code",
   "execution_count": 77,
   "metadata": {},
   "outputs": [
    {
     "name": "stdout",
     "output_type": "stream",
     "text": [
      "4.png\n",
      "3.png\n"
     ]
    }
   ],
   "source": [
    "for data_file in os.listdir(read_file_dir):\n",
    "    print(data_file)"
   ]
  }
 ],
 "metadata": {
  "kernelspec": {
   "display_name": "Python 3",
   "language": "python",
   "name": "python3"
  },
  "language_info": {
   "codemirror_mode": {
    "name": "ipython",
    "version": 3
   },
   "file_extension": ".py",
   "mimetype": "text/x-python",
   "name": "python",
   "nbconvert_exporter": "python",
   "pygments_lexer": "ipython3",
   "version": "3.6.2"
  }
 },
 "nbformat": 4,
 "nbformat_minor": 2
}
